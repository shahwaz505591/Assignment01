{
 "cells": [
  {
   "cell_type": "markdown",
   "id": "7760216e-ee98-4956-b960-8962a0514e20",
   "metadata": {},
   "source": [
    "Q1:who developed python programming language?\n",
    "Ans:Guido van rosssum developed python programming language in  1980. "
   ]
  },
  {
   "cell_type": "markdown",
   "id": "f194585e-ed7c-4346-9472-868c277337f9",
   "metadata": {},
   "source": [
    "Q2:which type of programming does python suppport?\n",
    "Ans:Python supports both object-oriented and procedural programming."
   ]
  },
  {
   "cell_type": "markdown",
   "id": "1fdb63d8-c50c-4b02-9934-66059de80f38",
   "metadata": {},
   "source": [
    "Q3:is python case sensitive when dealing with identifiers?\n",
    "Ans:Yes, Python is a case-sensitive language, i.e., it treats uppercase and lowercase characters differently. This applies to identifiers too. You must avoid using the same name with different cases while naming identifiers. "
   ]
  },
  {
   "cell_type": "markdown",
   "id": "a129ff46-ce87-4795-b10e-a2628b890b05",
   "metadata": {},
   "source": [
    "Q4:what is the correct extension of the  python file?\n",
    "Ans:When creating programs and code in Python, the correct file extension for your code is .py."
   ]
  },
  {
   "cell_type": "markdown",
   "id": "959836ba-0697-47b2-b628-c74cebe4db0e",
   "metadata": {},
   "source": [
    "Q5:Is python code compiled or interpreted?\n",
    "Ans: python language is interpreted."
   ]
  },
  {
   "cell_type": "markdown",
   "id": "98f9decc-dfc7-44c2-b6d4-dbc2f12ebfc4",
   "metadata": {},
   "source": [
    "Q6:Name a few blocks of code used to define in python language?\n",
    "Ans:A python is constructrd from code blocks.some blocks are a Module,a Function body,and A Class definition."
   ]
  },
  {
   "cell_type": "markdown",
   "id": "7aa8283e-373a-4999-8b38-fa5963234685",
   "metadata": {},
   "source": [
    "Q7:State a character used to give single-line comments in python?\n",
    "Ans:Hash character(#)is used for single line commrent in python."
   ]
  },
  {
   "cell_type": "markdown",
   "id": "7ee922a3-ea86-4b73-9c59-4dc62e2ea79c",
   "metadata": {},
   "source": [
    "Q8:Mention functions which can help us to find the version of python that we are currently working on?\n",
    "Ans:Function sys.version ."
   ]
  },
  {
   "cell_type": "markdown",
   "id": "fa461a69-e7e2-4daa-9a7d-44cad0df7f49",
   "metadata": {},
   "source": [
    "Q9:python supports the creation of anonymous function at runtime,using a construct called------.\n",
    "Ans:lambda."
   ]
  },
  {
   "cell_type": "markdown",
   "id": "fcb445bd-e687-49ed-85d5-af790fad035f",
   "metadata": {},
   "source": [
    "Q10:what does pip stand for python ?\n",
    "Ans:pip stand for preferred installer program"
   ]
  },
  {
   "cell_type": "markdown",
   "id": "b218d0c7-62be-4a7f-a3b0-410f6fdf4eae",
   "metadata": {},
   "source": [
    "Q11:Mention a few built in function in python ?\n",
    "Ans:some built-in-function in python are:\n",
    "print(),type(),inpu()etc.\n"
   ]
  },
  {
   "cell_type": "markdown",
   "id": "ca56e632-735d-4ac4-bd65-a6a195d78cb7",
   "metadata": {},
   "source": [
    "Q12:what is the maximum possible length of an identifier in python?\n",
    "Ans:79 character."
   ]
  },
  {
   "cell_type": "markdown",
   "id": "6dc0bfc4-a84f-4992-af18-2a273e44bb5c",
   "metadata": {},
   "source": [
    "Q13:What are the benefits of using python?\n",
    "Ans:some benefits of using in python are:\n",
    ".Simpleto usse and understand.\n",
    ".Free and open source.\n",
    ".Extensive library."
   ]
  },
  {
   "cell_type": "markdown",
   "id": "e666ab68-f561-4c6d-8f8d-c7a835701854",
   "metadata": {},
   "source": [
    "Q14:How is memory managed in python ?\n",
    "Ans:Memory management in python involves a private heap containing all python objects and data structure."
   ]
  },
  {
   "cell_type": "markdown",
   "id": "5935ae3a-d1f2-407b-9d5d-e61b9b051c9c",
   "metadata": {},
   "source": [
    "Q15:How to install python on windows and set path variable?\n",
    "Ans:firstly install python from this link https://www.python.org/doenloads/\n",
    "After this,install it on pc.\n",
    "and command on your command prompt:cmd python.then go to advanced system settings and add new variable and it as PYTHON-NAME and paste the copied path. then look for the path variable,select its value and select edit add a semicolon towards the end of the value if its not present and then type %PYTHON-HOME%. "
   ]
  },
  {
   "cell_type": "markdown",
   "id": "27b6df41-6910-471f-8a9b-004801ab546d",
   "metadata": {},
   "source": [
    "Q16:Is indentation required in python?\n",
    "Ans:The indentation in python is very important. python uses indentation to indicate a block of code."
   ]
  }
 ],
 "metadata": {
  "kernelspec": {
   "display_name": "Python 3 (ipykernel)",
   "language": "python",
   "name": "python3"
  },
  "language_info": {
   "codemirror_mode": {
    "name": "ipython",
    "version": 3
   },
   "file_extension": ".py",
   "mimetype": "text/x-python",
   "name": "python",
   "nbconvert_exporter": "python",
   "pygments_lexer": "ipython3",
   "version": "3.10.8"
  }
 },
 "nbformat": 4,
 "nbformat_minor": 5
}
